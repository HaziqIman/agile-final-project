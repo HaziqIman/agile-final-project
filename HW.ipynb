{
  "nbformat": 4,
  "nbformat_minor": 0,
  "metadata": {
    "colab": {
      "provenance": [],
      "include_colab_link": true
    },
    "kernelspec": {
      "name": "python3",
      "display_name": "Python 3"
    },
    "language_info": {
      "name": "python"
    }
  },
  "cells": [
    {
      "cell_type": "markdown",
      "metadata": {
        "id": "view-in-github",
        "colab_type": "text"
      },
      "source": [
        "<a href=\"https://colab.research.google.com/github/HaziqIman/agile-final-project/blob/main/HW.ipynb\" target=\"_parent\"><img src=\"https://colab.research.google.com/assets/colab-badge.svg\" alt=\"Open In Colab\"/></a>"
      ]
    },
    {
      "cell_type": "code",
      "execution_count": null,
      "metadata": {
        "id": "LMu2idbjWEFL",
        "colab": {
          "base_uri": "https://localhost:8080/"
        },
        "outputId": "ad268c92-4fb9-4704-f2f2-e868544b3e54"
      },
      "outputs": [
        {
          "output_type": "stream",
          "name": "stdout",
          "text": [
            "/bin/bash: line 1: .: filename argument required\n",
            ".: usage: . filename [arguments]\n"
          ]
        }
      ],
      "source": [
        "!."
      ]
    },
    {
      "cell_type": "code",
      "source": [
        "!git clone https://github.com/HaziqIman/testrepo"
      ],
      "metadata": {
        "id": "hqi5ltRIXX2D",
        "colab": {
          "base_uri": "https://localhost:8080/"
        },
        "outputId": "82ccf389-7759-4849-fd18-c37b5bba1783"
      },
      "execution_count": 2,
      "outputs": [
        {
          "output_type": "stream",
          "name": "stdout",
          "text": [
            "Cloning into 'testrepo'...\n",
            "remote: Enumerating objects: 16, done.\u001b[K\n",
            "remote: Counting objects: 100% (16/16), done.\u001b[K\n",
            "remote: Compressing objects: 100% (11/11), done.\u001b[K\n",
            "remote: Total 16 (delta 1), reused 0 (delta 0), pack-reused 0\u001b[K\n",
            "Receiving objects: 100% (16/16), 4.87 KiB | 4.87 MiB/s, done.\n",
            "Resolving deltas: 100% (1/1), done.\n"
          ]
        }
      ]
    },
    {
      "cell_type": "code",
      "source": [
        "!ls path_your_cloned_repo"
      ],
      "metadata": {
        "colab": {
          "base_uri": "https://localhost:8080/"
        },
        "id": "G4R6Qt9kXlXS",
        "outputId": "ae56e002-93d0-4569-cc6d-4f9015a8d197"
      },
      "execution_count": 3,
      "outputs": [
        {
          "output_type": "stream",
          "name": "stdout",
          "text": [
            "ls: cannot access 'path_your_cloned_repo': No such file or directory\n"
          ]
        }
      ]
    },
    {
      "cell_type": "code",
      "source": [
        "!ls\n"
      ],
      "metadata": {
        "colab": {
          "base_uri": "https://localhost:8080/"
        },
        "id": "Sw001USGXtrH",
        "outputId": "9c9f7d93-879b-4bc8-aab2-0f4843fd370d"
      },
      "execution_count": 4,
      "outputs": [
        {
          "output_type": "stream",
          "name": "stdout",
          "text": [
            "sample_data  testrepo\n"
          ]
        }
      ]
    },
    {
      "cell_type": "code",
      "source": [
        "!ls testrepo\n"
      ],
      "metadata": {
        "colab": {
          "base_uri": "https://localhost:8080/"
        },
        "id": "sH25oumpZkRu",
        "outputId": "4a0dddca-7fab-409b-b5b3-fbc981051674"
      },
      "execution_count": 5,
      "outputs": [
        {
          "output_type": "stream",
          "name": "stdout",
          "text": [
            "firstpython.py\tMax_Heap.py  README.md\ttestchild.py\n"
          ]
        }
      ]
    },
    {
      "cell_type": "code",
      "source": [],
      "metadata": {
        "id": "FBbMKYyVZnX4"
      },
      "execution_count": null,
      "outputs": []
    }
  ]
}